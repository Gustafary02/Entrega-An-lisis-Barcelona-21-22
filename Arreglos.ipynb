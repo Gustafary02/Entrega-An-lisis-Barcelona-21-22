{
  "nbformat": 4,
  "nbformat_minor": 0,
  "metadata": {
    "colab": {
      "provenance": [],
      "toc_visible": true,
      "mount_file_id": "15hkYhvrCXxF2PkpyluHgQjsJceOYMsTa",
      "authorship_tag": "ABX9TyMjTC1oDbhKkyRGMGeoqc0z",
      "include_colab_link": true
    },
    "kernelspec": {
      "name": "python3",
      "display_name": "Python 3"
    },
    "language_info": {
      "name": "python"
    }
  },
  "cells": [
    {
      "cell_type": "markdown",
      "metadata": {
        "id": "view-in-github",
        "colab_type": "text"
      },
      "source": [
        "<a href=\"https://colab.research.google.com/github/Gustafary02/Entrega-An-lisis-Barcelona-21-22/blob/main/Arreglos.ipynb\" target=\"_parent\"><img src=\"https://colab.research.google.com/assets/colab-badge.svg\" alt=\"Open In Colab\"/></a>"
      ]
    },
    {
      "cell_type": "code",
      "execution_count": null,
      "metadata": {
        "colab": {
          "base_uri": "https://localhost:8080/"
        },
        "id": "unTuFHN1xfa0",
        "outputId": "4ef2973e-aa95-4d0e-d8a0-d2a9d494c8ef"
      },
      "outputs": [
        {
          "output_type": "stream",
          "name": "stdout",
          "text": [
            "[[ 5 59 71]\n",
            " [96 97 48]\n",
            " [49 38 20]\n",
            " [78 39 20]\n",
            " [64  6 29]]\n"
          ]
        }
      ],
      "source": [
        "import numpy as np\n",
        "\n",
        "# Generar un arreglo 5x3 con números aleatorios entre 0 y 100\n",
        "arreglo = np.random.randint(0, 101, size=(5, 3))\n",
        "\n",
        "print(arreglo)\n"
      ]
    },
    {
      "cell_type": "code",
      "source": [
        "# Calcular la suma total\n",
        "suma_total = np.sum(arreglo)\n",
        "\n",
        "print(\"Arreglo:\")\n",
        "print(arreglo)\n",
        "print(\"\\nSuma total de los valores:\", suma_total)"
      ],
      "metadata": {
        "colab": {
          "base_uri": "https://localhost:8080/"
        },
        "id": "KYjiukpkyCqm",
        "outputId": "ef185a3d-da71-4acd-9fb8-af8156faacaa"
      },
      "execution_count": null,
      "outputs": [
        {
          "output_type": "stream",
          "name": "stdout",
          "text": [
            "Arreglo:\n",
            "[[ 5 59 71]\n",
            " [96 97 48]\n",
            " [49 38 20]\n",
            " [78 39 20]\n",
            " [64  6 29]]\n",
            "\n",
            "Suma total de los valores: 719\n"
          ]
        }
      ]
    },
    {
      "cell_type": "code",
      "source": [
        "promedios_columnas = np.mean(arreglo, axis=0)\n",
        "print(\"\\nPromedio de cada columna:\", promedios_columnas)"
      ],
      "metadata": {
        "colab": {
          "base_uri": "https://localhost:8080/"
        },
        "id": "NUfKnOFgykCp",
        "outputId": "92de7376-3829-4ec7-9575-ae799eb70ffc"
      },
      "execution_count": null,
      "outputs": [
        {
          "output_type": "stream",
          "name": "stdout",
          "text": [
            "\n",
            "Promedio de cada columna: [58.4 47.8 37.6]\n"
          ]
        }
      ]
    },
    {
      "cell_type": "code",
      "source": [
        "# Generar una matriz 10x10 con enteros aleatorios entre 0 y 9\n",
        "matriz = np.random.randint(0, 10, size=(10, 10))\n",
        "\n",
        "print(\"Matriz 10x10:\")\n",
        "print(matriz)"
      ],
      "metadata": {
        "colab": {
          "base_uri": "https://localhost:8080/"
        },
        "id": "pg5LlEqlyoZ6",
        "outputId": "f705679c-1b6d-40e1-8c93-be3e17f07a0d"
      },
      "execution_count": null,
      "outputs": [
        {
          "output_type": "stream",
          "name": "stdout",
          "text": [
            "Matriz 10x10:\n",
            "[[5 6 8 8 7 1 7 7 2 9]\n",
            " [6 1 6 4 3 8 7 1 3 9]\n",
            " [7 2 3 5 6 4 5 4 8 6]\n",
            " [3 4 5 0 7 6 0 5 3 9]\n",
            " [4 3 7 8 6 8 6 5 6 4]\n",
            " [2 0 0 3 3 4 2 8 0 0]\n",
            " [1 3 6 7 7 1 3 7 4 5]\n",
            " [4 2 1 8 0 1 7 2 0 5]\n",
            " [0 2 0 0 8 6 3 6 2 8]\n",
            " [1 4 4 3 8 1 8 1 9 6]]\n"
          ]
        }
      ]
    },
    {
      "cell_type": "code",
      "source": [
        "# Reemplazar valores mayores que 5 con -1\n",
        "matriz[matriz > 5] = -1\n",
        "\n",
        "print(\"Matriz modificada:\")\n",
        "print(matriz)"
      ],
      "metadata": {
        "colab": {
          "base_uri": "https://localhost:8080/"
        },
        "id": "gPt1nExVytdK",
        "outputId": "16d626c3-70a7-44f5-a166-98a4acb63f5d"
      },
      "execution_count": null,
      "outputs": [
        {
          "output_type": "stream",
          "name": "stdout",
          "text": [
            "Matriz modificada:\n",
            "[[ 5 -1 -1 -1 -1  1 -1 -1  2 -1]\n",
            " [-1  1 -1  4  3 -1 -1  1  3 -1]\n",
            " [-1  2  3  5 -1  4  5  4 -1 -1]\n",
            " [ 3  4  5  0 -1 -1  0  5  3 -1]\n",
            " [ 4  3 -1 -1 -1 -1 -1  5 -1  4]\n",
            " [ 2  0  0  3  3  4  2 -1  0  0]\n",
            " [ 1  3 -1 -1 -1  1  3 -1  4  5]\n",
            " [ 4  2  1 -1  0  1 -1  2  0  5]\n",
            " [ 0  2  0  0 -1 -1  3 -1  2 -1]\n",
            " [ 1  4  4  3 -1  1 -1  1 -1 -1]]\n"
          ]
        }
      ]
    },
    {
      "cell_type": "code",
      "source": [
        "!pip install opencv-python"
      ],
      "metadata": {
        "colab": {
          "base_uri": "https://localhost:8080/"
        },
        "id": "5lAFqe8NyubD",
        "outputId": "913f72b7-0cfa-4c98-e916-4d68a3265c09"
      },
      "execution_count": null,
      "outputs": [
        {
          "output_type": "stream",
          "name": "stdout",
          "text": [
            "Requirement already satisfied: opencv-python in /usr/local/lib/python3.11/dist-packages (4.11.0.86)\n",
            "Requirement already satisfied: numpy>=1.21.2 in /usr/local/lib/python3.11/dist-packages (from opencv-python) (2.0.2)\n"
          ]
        }
      ]
    },
    {
      "cell_type": "code",
      "source": [
        "from google.colab import drive\n",
        "drive.mount('/content/drive')\n"
      ],
      "metadata": {
        "colab": {
          "base_uri": "https://localhost:8080/"
        },
        "id": "XZ4kOfxfy-JM",
        "outputId": "7794f31d-3516-43f0-96f8-8f48dd1d23ab"
      },
      "execution_count": null,
      "outputs": [
        {
          "output_type": "stream",
          "name": "stdout",
          "text": [
            "Mounted at /content/drive\n"
          ]
        }
      ]
    },
    {
      "cell_type": "code",
      "source": [
        "import cv2\n",
        "import numpy as np\n"
      ],
      "metadata": {
        "id": "sb4wh3d-0PCY"
      },
      "execution_count": null,
      "outputs": []
    },
    {
      "cell_type": "code",
      "source": [
        "\n"
      ],
      "metadata": {
        "id": "bhhpOdSO3DEH"
      },
      "execution_count": null,
      "outputs": []
    },
    {
      "cell_type": "code",
      "source": [
        "# Ruta a la imagen en Google Drive\n",
        "\n",
        "ruta_imagen = \"/content/drive/MyDrive/FOTO PARA COLAB GOOGLE/fc-barcelona.jpg\"\n",
        "\n",
        "\n",
        "# Leer la imagen\n",
        "imagen = cv2.imread(ruta_imagen)\n",
        "\n",
        "# Ver estadísticas básicas\n",
        "print(\"Dimensiones de la imagen:\", imagen.shape)\n",
        "\n",
        "# Estadísticas por canal (BGR)\n",
        "min_valores = imagen.min(axis=(0, 1))\n",
        "max_valores = imagen.max(axis=(0, 1))\n",
        "promedio_canales = imagen.mean(axis=(0, 1))\n",
        "\n",
        "print(f\"Mínimos por canal (BGR): {min_valores}\")\n",
        "print(f\"Máximos por canal (BGR): {max_valores}\")\n",
        "print(f\"Promedio por canal (BGR): {promedio_canales}\")\n"
      ],
      "metadata": {
        "colab": {
          "base_uri": "https://localhost:8080/"
        },
        "id": "_ghFc6xd0Yc9",
        "outputId": "21ed27f0-4b82-41ee-e2a9-988ab2e49cb8"
      },
      "execution_count": null,
      "outputs": [
        {
          "output_type": "stream",
          "name": "stdout",
          "text": [
            "Dimensiones de la imagen: (2160, 5120, 3)\n",
            "Mínimos por canal (BGR): [0 0 0]\n",
            "Máximos por canal (BGR): [255 255 255]\n",
            "Promedio por canal (BGR): [48.23930302 13.45547463 17.49109918]\n"
          ]
        }
      ]
    }
  ]
}